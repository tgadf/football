{
 "cells": [
  {
   "cell_type": "code",
   "execution_count": 7,
   "metadata": {},
   "outputs": [],
   "source": [
    "from footballPlays import playtype"
   ]
  },
  {
   "cell_type": "code",
   "execution_count": 8,
   "metadata": {},
   "outputs": [],
   "source": [
    "plays = []\n",
    "plays.append(\"Evan O'Hara kickoff for 58 yds\")\n",
    "plays.append(\"Damien Harris run for 3 yds to the Alab 38\")\n",
    "plays.append(\"Tua Tagovailoa sacked by G.G. Robinson for a loss of 6 yards to the Alab 32\")\n",
    "plays.append(\"Tua Tagovailoa pass complete to Damien Harris for 14 yds to the Alab 46 for a 1ST down\")\n",
    "plays.append(\"Joseph Bulovas kickoff for 50 yds for a touchback\")\n",
    "plays.append(\"Jawon Pass pass complete to Micky Crum for 13 yds to the Lvile 38 for a 1ST down\")\n",
    "plays.append(\"Jawon Pass pass complete to Micky Crum for 5 yds to the Lvile 43\")\n",
    "plays.append(\"Trey Smith run for 2 yds to the Lvile 45\")\n",
    "plays.append(\"Jawon Pass pass incomplete to Trey Smith\")"
   ]
  },
  {
   "cell_type": "code",
   "execution_count": 9,
   "metadata": {},
   "outputs": [
    {
     "name": "stdout",
     "output_type": "stream",
     "text": [
      "Evan O'Hara kickoff for 58 yds\n",
      "===> Kickoff Play\n",
      "Damien Harris run for 3 yds to the Alab 38\n",
      "===> Rushing Play\n",
      "Tua Tagovailoa sacked by G.G. Robinson for a loss of 6 yards to the Alab 32\n",
      "===> Sack Play\n",
      "Tua Tagovailoa pass complete to Damien Harris for 14 yds to the Alab 46 for a 1ST down\n",
      "===> Passing Play\n",
      "Joseph Bulovas kickoff for 50 yds for a touchback\n",
      "===> Kickoff Play\n",
      "Jawon Pass pass complete to Micky Crum for 13 yds to the Lvile 38 for a 1ST down\n",
      "===> Passing Play\n",
      "Jawon Pass pass complete to Micky Crum for 5 yds to the Lvile 43\n",
      "===> Passing Play\n",
      "Trey Smith run for 2 yds to the Lvile 45\n",
      "===> Rushing Play\n",
      "Jawon Pass pass incomplete to Trey Smith\n",
      "===> Passing Play\n"
     ]
    }
   ],
   "source": [
    "for text in plays:\n",
    "    print(text)\n",
    "    pt = playtype(playText=text, debug=True)"
   ]
  },
  {
   "cell_type": "code",
   "execution_count": null,
   "metadata": {},
   "outputs": [],
   "source": []
  }
 ],
 "metadata": {
  "kernelspec": {
   "display_name": "Python 3",
   "language": "python",
   "name": "python3"
  },
  "language_info": {
   "codemirror_mode": {
    "name": "ipython",
    "version": 3
   },
   "file_extension": ".py",
   "mimetype": "text/x-python",
   "name": "python",
   "nbconvert_exporter": "python",
   "pygments_lexer": "ipython3",
   "version": "3.6.6"
  }
 },
 "nbformat": 4,
 "nbformat_minor": 2
}
