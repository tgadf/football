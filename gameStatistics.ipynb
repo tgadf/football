{
 "cells": [
  {
   "cell_type": "code",
   "execution_count": 34,
   "metadata": {},
   "outputs": [
    {
     "name": "stdout",
     "output_type": "stream",
     "text": [
      "The autoreload extension is already loaded. To reload it, use:\n",
      "  %reload_ext autoreload\n"
     ]
    }
   ],
   "source": [
    "%load_ext autoreload\n",
    "%autoreload\n",
    "\n",
    "\n",
    "from gameStatistics import gameplayers"
   ]
  },
  {
   "cell_type": "code",
   "execution_count": 35,
   "metadata": {
    "scrolled": true
   },
   "outputs": [
    {
     "name": "stdout",
     "output_type": "stream",
     "text": [
      "Loading data from testDriveData.p\n",
      "  --> This file is 9.1kB.\n",
      "Loading testDriveData.p\n",
      "Loading data from testFieldMap.p\n",
      "  --> This file is 76B.\n",
      "Loading testFieldMap.p\n",
      "Loading data from testGameStats.p\n",
      "  --> This file is 244.2kB.\n",
      "Loading testGameStats.p\n",
      "Loading data from testAugStats.p\n",
      "  --> This file is 47.4kB.\n",
      "Loading testAugStats.p\n"
     ]
    }
   ],
   "source": [
    "from ioUtils import getFile\n",
    "year = 2014\n",
    "driveData = getFile(ifile=\"testDriveData.p\", debug=True)\n",
    "fieldMap  = getFile(ifile=\"testFieldMap.p\",  debug=True)\n",
    "statsData = getFile(ifile=\"testGameStats.p\",  debug=True)\n",
    "augmentedStatsData = getFile(ifile=\"testAugStats.p\",  debug=True)"
   ]
  },
  {
   "cell_type": "code",
   "execution_count": 36,
   "metadata": {},
   "outputs": [
    {
     "name": "stdout",
     "output_type": "stream",
     "text": [
      "{'Shock Linwood': 'RB', 'S. Linwood': 'RB', 'Johnny Jefferson': 'RB', 'J. Jefferson': 'RB', 'Devin Chafin': 'RB', 'D. Chafin': 'RB', 'Silas Nacita': 'RB', 'S. Nacita': 'RB', 'Seth Russell': 'RB', 'S. Russell': 'QB', 'Bryce Petty': 'RB', 'B. Petty': 'QB', 'Antwan Goodley': 'RB', 'A. Goodley': 'WR', 'Corey Coleman': 'RB', 'C. Coleman': 'WR', 'Chris Johnson': 'RB', 'C. Johnson': 'TE', 'Spencer Roth': 'P', 'S. Roth': 'P', 'KD Cannon': 'WR', 'K. Cannon': 'WR', 'Levi Norwood': 'WR', 'L. Norwood': 'WR', 'Anthony Webb': 'RB', 'A. Webb': 'RB', 'Baylor Black': 'LB', 'B. Black': 'LB', 'Kd Cannon': 'RB'}\n",
      "  Running Team: [None, None, None]\n",
      "[None, None, None]\n"
     ]
    },
    {
     "data": {
      "text/plain": [
       "['Silas Nacita ', '1', 'Yd', 'Run', ' (Kyle Peterson Kick)']"
      ]
     },
     "execution_count": 36,
     "metadata": {},
     "output_type": "execute_result"
    }
   ],
   "source": [
    "players = gameplayers(teamsMap=fieldMap, statsData=statsData)\n",
    "players.augmentData(augmentedStatsData)\n",
    "\n",
    "print(players.homeTeamPlayers.runners)\n",
    "text = \"Silas Nacita 1 Yd Run (Kyle Peterson Kick)\"\n",
    "x = players.getRunningTeam(text, debug=True)\n",
    "print(x)\n",
    "\n",
    "\n",
    "run  = (\"(run|Run|RUN)\")\n",
    "num  = \"([+-?]\\d+|\\d+)\"  \n",
    "dist = (\"(yards|yard|Yds|yds|Yd|yd)\")\n",
    "\n",
    "import re\n",
    "m = re.split(\"{0}\\s{1}\\s{2}\".format(num, dist, run), text)\n",
    "m"
   ]
  },
  {
   "cell_type": "code",
   "execution_count": null,
   "metadata": {},
   "outputs": [],
   "source": []
  },
  {
   "cell_type": "code",
   "execution_count": 26,
   "metadata": {},
   "outputs": [
    {
     "name": "stdout",
     "output_type": "stream",
     "text": [
      "['Josh Reese ', '10', 'Yd', 'pass', 'from', ' Justin Holman (Shawn Moffitt Kick)']\n",
      "Josh Reese\n"
     ]
    }
   ],
   "source": [
    "import re\n",
    "text = \"Josh Reese 10 Yd pass from Justin Holman (Shawn Moffitt Kick)\"\n",
    "playText = text\n",
    "            \n",
    "### Field Goal\n",
    "wrd1 = (\"(pass|Pass|PASS)\")\n",
    "wrd2 = (\"(from|From|FROM)\")\n",
    "num  = \"([+-?]\\d+|\\d+)\"  \n",
    "dist = (\"(yards|yard|Yard|Yds|yds|Yd|yd)\")\n",
    "\n",
    "m = re.split(\"{0}\\s{1}\\s{2}\\s{3}\".format(num, dist, wrd1, wrd2), playText)\n",
    "if len(m) > 1:\n",
    "    print(m)\n",
    "    name = m[0].strip()\n",
    "    print(name)"
   ]
  },
  {
   "cell_type": "code",
   "execution_count": null,
   "metadata": {},
   "outputs": [],
   "source": []
  }
 ],
 "metadata": {
  "kernelspec": {
   "display_name": "Python 3",
   "language": "python",
   "name": "python3"
  },
  "language_info": {
   "codemirror_mode": {
    "name": "ipython",
    "version": 3
   },
   "file_extension": ".py",
   "mimetype": "text/x-python",
   "name": "python",
   "nbconvert_exporter": "python",
   "pygments_lexer": "ipython3",
   "version": "3.6.6"
  }
 },
 "nbformat": 4,
 "nbformat_minor": 2
}
