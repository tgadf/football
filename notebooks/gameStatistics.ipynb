{
 "cells": [
  {
   "cell_type": "code",
   "execution_count": 47,
   "metadata": {},
   "outputs": [
    {
     "name": "stdout",
     "output_type": "stream",
     "text": [
      "The autoreload extension is already loaded. To reload it, use:\n",
      "  %reload_ext autoreload\n"
     ]
    }
   ],
   "source": [
    "%load_ext autoreload\n",
    "%autoreload\n",
    "\n",
    "\n",
    "from gameStatistics import gameplayers"
   ]
  },
  {
   "cell_type": "code",
   "execution_count": 43,
   "metadata": {
    "scrolled": true
   },
   "outputs": [
    {
     "name": "stdout",
     "output_type": "stream",
     "text": [
      "Loading data from testDriveData.p\n",
      "  --> This file is 9.0kB.\n",
      "Loading testDriveData.p\n",
      "Loading data from testFieldMap.p\n",
      "  --> This file is 77B.\n",
      "Loading testFieldMap.p\n",
      "Loading data from testGameStats.p\n",
      "  --> This file is 244.2kB.\n",
      "Loading testGameStats.p\n",
      "Loading data from testAugStats.p\n",
      "  --> This file is 47.4kB.\n",
      "Loading testAugStats.p\n"
     ]
    }
   ],
   "source": [
    "from ioUtils import getFile\n",
    "year = 2014\n",
    "driveData = getFile(ifile=\"testDriveData.p\", debug=True)\n",
    "fieldMap  = getFile(ifile=\"testFieldMap.p\",  debug=True)\n",
    "statsData = getFile(ifile=\"testGameStats.p\",  debug=True)\n",
    "augmentedStatsData = getFile(ifile=\"testAugStats.p\",  debug=True)"
   ]
  },
  {
   "cell_type": "code",
   "execution_count": 48,
   "metadata": {},
   "outputs": [
    {
     "name": "stdout",
     "output_type": "stream",
     "text": [
      "{'Paul Perkins': 'RB', 'P. Perkins': 'RB', 'Brett Hundley': 'RB', 'B. Hundley': 'QB', 'JJ James': 'RB', 'J. James': 'RB', 'Nate Starks': 'RB', 'N. Starks': 'RB', 'Myles Jack': 'RB', 'M. Jack': 'LB', 'Mossi Johnson': 'RB', 'M. Johnson': 'WR', 'Eddie Vanderdoes': 'RB', 'E. Vanderdoes': 'DT', 'Ishmael Adams': 'WR', 'I. Adams': 'WR', 'Taylor Lagace': 'FB', 'T. Lagace': 'FB', 'Devin Lewis Fuller': 'WR', 'D. L. Fuller': 'WR', 'Anthony Jefferson': 'S', 'A. Jefferson': 'S', 'Steven Manfro': 'RB', 'S. Manfro': 'RB', 'Jerry Neuheisel': 'QB', 'J. Neuheisel': 'QB', 'Jordon James': 'RB'}\n",
      "  EXACT MATCH: TE <-- Thomas Duarte\n",
      "  Receiving Team: ['UCLA', 'Thomas Duarte', 'TE']\n",
      "['UCLA', 'Thomas Duarte', 'TE']\n",
      "  EXACT MATCH: QB <-- Brett Hundley\n",
      "  Passing Team: ['UCLA', 'Brett Hundley', 'QB']\n",
      "['UCLA', 'Brett Hundley', 'QB']\n"
     ]
    }
   ],
   "source": [
    "players = gameplayers(teamsMap=fieldMap, statsData=statsData)\n",
    "players.augmentData(augmentedStatsData)\n",
    "\n",
    "print(players.homeTeamPlayers.runners)\n",
    "\n",
    "text = \"Thomas Duarte 33 Yd pass from Brett Hundley (Ka'imi Fairbairn Kick)\"\n",
    "x = players.getReceivingTeam(text, debug=True)\n",
    "print(x)\n",
    "x = players.getPassingTeam(text, debug=True)\n",
    "print(x)"
   ]
  },
  {
   "cell_type": "code",
   "execution_count": null,
   "metadata": {},
   "outputs": [],
   "source": []
  },
  {
   "cell_type": "code",
   "execution_count": 46,
   "metadata": {},
   "outputs": [
    {
     "name": "stdout",
     "output_type": "stream",
     "text": [
      "['Thomas Duarte ', '33', 'Yd', 'pass', 'from', \" Brett Hundley (Ka'imi Fairbairn Kick)\"]\n",
      "Thomas Duarte\n",
      "Brett Hundley\n"
     ]
    }
   ],
   "source": [
    "import re\n",
    "#text = \"Josh Reese 10 Yd pass from Justin Holman (Shawn Moffitt Kick)\"\n",
    "playText = text\n",
    "            \n",
    "### Field Goal\n",
    "wrd1 = (\"(pass|Pass|PASS)\")\n",
    "wrd2 = (\"(from|From|FROM)\")\n",
    "num  = \"([+-?]\\d+|\\d+)\"  \n",
    "dist = (\"(yards|yard|Yard|Yds|yds|Yd|yd)\")\n",
    "\n",
    "m = re.split(\"{0}\\s{1}\\s{2}\\s{3}\".format(num, dist, wrd1, wrd2), playText)\n",
    "if len(m) > 1:\n",
    "    print(m)\n",
    "    name = m[0].strip()\n",
    "    print(name)\n",
    "    name = \" \".join([x.strip() for x in m[-1].split()[:2]])\n",
    "    print(name)"
   ]
  },
  {
   "cell_type": "code",
   "execution_count": null,
   "metadata": {},
   "outputs": [],
   "source": []
  }
 ],
 "metadata": {
  "kernelspec": {
   "display_name": "Python 3",
   "language": "python",
   "name": "python3"
  },
  "language_info": {
   "codemirror_mode": {
    "name": "ipython",
    "version": 3
   },
   "file_extension": ".py",
   "mimetype": "text/x-python",
   "name": "python",
   "nbconvert_exporter": "python",
   "pygments_lexer": "ipython3",
   "version": "3.6.6"
  }
 },
 "nbformat": 4,
 "nbformat_minor": 2
}
